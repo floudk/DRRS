{
 "cells": [
  {
   "cell_type": "code",
   "execution_count": null,
   "metadata": {},
   "outputs": [],
   "source": [
    "import pandas as pd\n",
    "import json\n",
    "\n",
    "twitch_file = r'100k_a.csv'\n",
    "# user_id: user identifier (anonymized).\n",
    "# stream id: stream identifier, could be used to retreive a single broadcast segment (not used in our study).\n",
    "# streamer name: name of the channel.\n",
    "# start time: first crawling round at which the user was seen in the chat.\n",
    "# stop time: last crawling round at which the user was seen in the chat.\n",
    "# 1,33942837056,wtcn,1165,1167\n",
    "twitch = pd.read_csv(twitch_file, sep=',', header=None, names=['user_id', 'stream_id', 'streamer_name', 'start_time', 'stop_time'])\n",
    "twitch['start_time'] = pd.to_numeric(twitch['start_time'])\n",
    "twitch['stop_time'] = pd.to_numeric(twitch['stop_time'])\n",
    "\n",
    "print(twitch.head())\n"
   ]
  },
  {
   "cell_type": "code",
   "execution_count": null,
   "metadata": {},
   "outputs": [],
   "source": [
    "# print min and max start_time\n",
    "print('min start_time:', twitch['start_time'].min(), 'max start_time:', twitch['start_time'].max())\n",
    "# print min and max stop_time\n",
    "print('min stop_time:', twitch['stop_time'].min(), 'max stop_time:', twitch['stop_time'].max())"
   ]
  },
  {
   "cell_type": "code",
   "execution_count": null,
   "metadata": {},
   "outputs": [],
   "source": [
    "events = []\n",
    "\n",
    "\n",
    "for index, row in twitch.iterrows():\n",
    "    enter_event = {\n",
    "        \"userId\": str(row[\"user_id\"]),\n",
    "        \"streamerName\": row[\"streamer_name\"],\n",
    "        \"eventTime\": row[\"start_time\"] // 20,\n",
    "        \"eventType\": \"ENTER\"\n",
    "    }\n",
    "    \n",
    "    leave_event = {\n",
    "        \"userId\": str(row[\"user_id\"]),\n",
    "        \"streamerName\": row[\"streamer_name\"],\n",
    "        \"eventTime\": row[\"stop_time\"] // 20,\n",
    "        \"eventType\": \"LEAVE\"\n",
    "    }\n",
    "    \n",
    "\n",
    "    events.append(enter_event)\n",
    "    events.append(leave_event)\n",
    "\n",
    "events.sort(key=lambda x: x[\"eventTime\"])\n",
    "for event in events:\n",
    "    event_json = json.dumps(event)\n",
    "\n",
    "# store events in a file\n",
    "with open('twitch_events.json', 'w') as f:\n",
    "    for event in events:\n",
    "        event_json = json.dumps(event)\n",
    "        f.write(event_json + '\\n')\n"
   ]
  }
 ],
 "metadata": {
  "kernelspec": {
   "display_name": "py39",
   "language": "python",
   "name": "python3"
  },
  "language_info": {
   "codemirror_mode": {
    "name": "ipython",
    "version": 3
   },
   "file_extension": ".py",
   "mimetype": "text/x-python",
   "name": "python",
   "nbconvert_exporter": "python",
   "pygments_lexer": "ipython3",
   "version": "3.9.19"
  }
 },
 "nbformat": 4,
 "nbformat_minor": 2
}
